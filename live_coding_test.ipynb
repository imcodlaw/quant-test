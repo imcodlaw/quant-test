{
 "cells": [
  {
   "cell_type": "code",
   "execution_count": 8,
   "id": "5fde4ba3",
   "metadata": {
    "ExecuteTime": {
     "end_time": "2024-02-28T12:02:32.694898Z",
     "start_time": "2024-02-28T12:02:32.684290Z"
    }
   },
   "outputs": [],
   "source": [
    "import json\n",
    "import pandas as pd\n",
    "import csv\n",
    "import os\n",
    "from tqdm import tqdm\n",
    "import numpy as np"
   ]
  },
  {
   "cell_type": "code",
   "execution_count": null,
   "id": "b22b8117",
   "metadata": {
    "ExecuteTime": {
     "end_time": "2024-02-28T11:51:53.788155Z",
     "start_time": "2024-02-28T11:51:53.458904Z"
    }
   },
   "outputs": [],
   "source": [
    "FILENAME = \"testdata_2023_10_09.json\"\n",
    "PATH = 'Documents/portfolio analysis/data/'\n",
    "f = open(PATH+FILENAME)\n",
    "data = json.load(f)\n"
   ]
  },
  {
   "cell_type": "markdown",
   "id": "475b6312",
   "metadata": {},
   "source": [
    "# here"
   ]
  },
  {
   "cell_type": "markdown",
   "id": "ff65c8ad",
   "metadata": {},
   "source": [
    "1: insert\n",
    "2: delete\n",
    "3: min\n",
    "4: max\n",
    "5: simple average\n",
    "6: median\n",
    "7: 5 percentile\n",
    "8: 95 percentile"
   ]
  },
  {
   "cell_type": "code",
   "execution_count": 5,
   "id": "7152768a",
   "metadata": {
    "ExecuteTime": {
     "end_time": "2024-02-28T11:51:57.743061Z",
     "start_time": "2024-02-28T11:51:57.737846Z"
    }
   },
   "outputs": [],
   "source": [
    "# import csv\n",
    "# import json\n",
    "\n",
    "# class OrderBook:\n",
    "# \tdef __init__(self) -> None:\n",
    "#     \t\tpass\n",
    "# \tdef insert(self) -> None:\n",
    "#     \t\tpass\n",
    "# \tdef delete(self) -> None:\n",
    "#     \t\tpass\n",
    "# \tdef min(self) -> None:\n",
    "#     \t\tpass\n",
    "# \tdef max(self) -> None:\n",
    "#     \t\tpass\n",
    "\n",
    "\n",
    "# ob = OrderBook()\n",
    "# with open(\"data.csv\", 'r') as file:\n",
    "# \tcsv_reader = csv.reader(file)\n",
    "# \tfor datum in csv_reader:\n",
    "#     \t\tdatum = json.loads(datum)\n",
    "#     \t\t\tif datum[\"action\"] == 1:\n",
    "#         \t\t\t\tob.insert()\n"
   ]
  },
  {
   "cell_type": "code",
   "execution_count": 6,
   "id": "244bab19",
   "metadata": {
    "ExecuteTime": {
     "end_time": "2024-02-28T11:51:59.813894Z",
     "start_time": "2024-02-28T11:51:59.810120Z"
    }
   },
   "outputs": [],
   "source": [
    "def save_json(dict_file, json_file_name) :\n",
    "    with open(json_file_name, \"w\") as outfile:\n",
    "        json.dump(dict_file, outfile)"
   ]
  },
  {
   "cell_type": "code",
   "execution_count": 7,
   "id": "9618343e",
   "metadata": {
    "ExecuteTime": {
     "end_time": "2024-02-28T12:02:32.677793Z",
     "start_time": "2024-02-28T11:52:03.351467Z"
    }
   },
   "outputs": [
    {
     "name": "stderr",
     "output_type": "stream",
     "text": [
      "100%|██████████████████████████████████| 500000/500000 [10:28<00:00, 794.94it/s]\n",
      "286072it [00:00, 1008756.03it/s]\n"
     ]
    }
   ],
   "source": [
    "initial_order_id = []\n",
    "initial_price = []\n",
    "initial_action = []\n",
    "initial_qty = []\n",
    "final_result = []\n",
    "\n",
    "for i in tqdm(data) :\n",
    "    if i['action'] == 1 : # insert\n",
    "        initial_order_id.append(i['order_id'])\n",
    "        initial_price.append(float(i['price']))\n",
    "        initial_qty.append(float(i['qty']))\n",
    "        initial_action.append(str(i['action']))\n",
    "        \n",
    "    elif i['action'] == 2 : # delete\n",
    "        try :\n",
    "            if i['order_id'] in order_id :\n",
    "                index = order_id.index(i['order_id'])\n",
    "                initial_order_id.pop(index)\n",
    "                initial_price.pop(index)\n",
    "                initial_qty.pop(index)\n",
    "                initial_action.append(str(i['action']))\n",
    "        except :\n",
    "            pass\n",
    "    \n",
    "    elif i['action'] == 3 : # min\n",
    "        final_result.append({'order_id' : i['order_id'],\n",
    "                             'action' : str(i['action']),\n",
    "                             'result' : min(initial_price)})\n",
    "        \n",
    "    elif i['action'] == 4 : # max\n",
    "        final_result.append({'order_id' : i['order_id'],\n",
    "                             'action' : str(i['action']),\n",
    "                             'result' : max(initial_price)})\n",
    "        \n",
    "    elif i['action'] == 5 : # average   \n",
    "        final_result.append({'order_id' : i['order_id'],\n",
    "                             'action' : str(i['action']),\n",
    "                             'result' : sum(initial_price)/len(initial_price)})\n",
    "                        \n",
    "        \n",
    "    elif (i['action'] == 6) | (i['action'] == 7) | (i['action'] == 8):\n",
    "        sorted_price = sorted(initial_price)\n",
    "        \n",
    "        if i['action'] == 6 : # median\n",
    "            if len(initial_price)%2 == 1 :\n",
    "                final_result.append({'order_id' : i['order_id'],\n",
    "                                    'action' : str(i['action']),\n",
    "                                    'result' : sorted_price[(int((len(initial_price)+1)/2))-1]})\n",
    "            \n",
    "            elif len(initial_price)%2 != 1 :\n",
    "                final_result.append({'order_id' : i['order_id'],\n",
    "                                    'action' : str(i['action']),\n",
    "                                    'result' : sum(sorted_price[int((len(initial_price)/2)-1) : (int((len(initial_price)/2)-1) + 2)])/2})\n",
    "        \n",
    "        elif i['action'] == 7 : # 5 percentile\n",
    "            index = round((5/100)*len(initial_price))\n",
    "            final_result.append({'order_id' : i['order_id'],\n",
    "                                'action' : str(i['action']),\n",
    "                                'result' : sorted_price[index]})\n",
    "            \n",
    "        \n",
    "        elif i['action'] == 8 : # 5 percentile\n",
    "            index = round((95/100)*len(initial_price))\n",
    "            final_result.append({'order_id' : i['order_id'],\n",
    "                                'action' : str(i['action']),\n",
    "                                'result' : sorted_price[index]})\n",
    "            \n",
    "result = ([{'order_id' : order_id, 'price' : price, 'qty' : qty, 'action' : act} for order_id, price, qty, act in tqdm(zip(initial_order_id, initial_price, initial_qty, initial_action))]\n",
    "          +\n",
    "          final_result)"
   ]
  },
  {
   "cell_type": "code",
   "execution_count": 14,
   "id": "3eb9ba65",
   "metadata": {
    "ExecuteTime": {
     "end_time": "2024-02-28T12:03:05.418987Z",
     "start_time": "2024-02-28T12:03:05.409501Z"
    }
   },
   "outputs": [
    {
     "data": {
      "text/plain": [
       "[{'order_id': 'b47801a8-719d-4adb-99a0-e5e7811db764',\n",
       "  'price': 3.0,\n",
       "  'qty': 3.31,\n",
       "  'action': '1'},\n",
       " {'order_id': '7f27bd99-4562-4dc8-aedf-0ffa0ca5361d',\n",
       "  'price': 3.0,\n",
       "  'qty': 1.77,\n",
       "  'action': '1'},\n",
       " {'order_id': '6198f639-16d7-42f9-b92c-408a44458f21',\n",
       "  'price': 4.0,\n",
       "  'qty': 4.26,\n",
       "  'action': '1'},\n",
       " {'order_id': '744925d7-7721-4647-8b88-10ec77cfc07e',\n",
       "  'price': 6.0,\n",
       "  'qty': 6.93,\n",
       "  'action': '1'},\n",
       " {'order_id': '8f43c0dc-0af4-4a89-9c32-a15f15d61845',\n",
       "  'price': 8.0,\n",
       "  'qty': 5.95,\n",
       "  'action': '1'}]"
      ]
     },
     "execution_count": 14,
     "metadata": {},
     "output_type": "execute_result"
    }
   ],
   "source": [
    "result[:5]"
   ]
  },
  {
   "cell_type": "code",
   "execution_count": 15,
   "id": "dad3d974",
   "metadata": {
    "ExecuteTime": {
     "end_time": "2024-02-28T12:03:13.506568Z",
     "start_time": "2024-02-28T12:03:13.501599Z"
    }
   },
   "outputs": [
    {
     "data": {
      "text/plain": [
       "[{'order_id': '7b892fe9-2460-455f-bd65-4d07e244117f',\n",
       "  'action': '3',\n",
       "  'result': 1.0},\n",
       " {'order_id': 'eadbaeeb-a3b8-41b0-a428-17a1adfdcbf2',\n",
       "  'action': '4',\n",
       "  'result': 918.0},\n",
       " {'order_id': 'f2c02ac0-04cf-4f38-9264-433aaf601e7d',\n",
       "  'action': '5',\n",
       "  'result': 429.75780223160604},\n",
       " {'order_id': '763e0b3c-d337-4b9c-976e-64ad1f295cf7',\n",
       "  'action': '7',\n",
       "  'result': 68.0},\n",
       " {'order_id': '77fd6ec6-e573-4d5e-bb35-b9533591bfba',\n",
       "  'action': '8',\n",
       "  'result': 835.0}]"
      ]
     },
     "execution_count": 15,
     "metadata": {},
     "output_type": "execute_result"
    }
   ],
   "source": [
    "result[-5:]"
   ]
  },
  {
   "cell_type": "code",
   "execution_count": null,
   "id": "481cac7d",
   "metadata": {
    "ExecuteTime": {
     "end_time": "2024-02-28T11:49:55.727358Z",
     "start_time": "2024-02-28T11:49:52.782915Z"
    }
   },
   "outputs": [],
   "source": [
    "save_json(result, 'final_result.json')"
   ]
  }
 ],
 "metadata": {
  "kernelspec": {
   "display_name": "Python 3 (ipykernel)",
   "language": "python",
   "name": "python3"
  },
  "language_info": {
   "codemirror_mode": {
    "name": "ipython",
    "version": 3
   },
   "file_extension": ".py",
   "mimetype": "text/x-python",
   "name": "python",
   "nbconvert_exporter": "python",
   "pygments_lexer": "ipython3",
   "version": "3.9.10"
  },
  "toc": {
   "base_numbering": 1,
   "nav_menu": {},
   "number_sections": true,
   "sideBar": true,
   "skip_h1_title": false,
   "title_cell": "Table of Contents",
   "title_sidebar": "Contents",
   "toc_cell": false,
   "toc_position": {
    "height": "calc(100% - 180px)",
    "left": "10px",
    "top": "150px",
    "width": "287.594px"
   },
   "toc_section_display": true,
   "toc_window_display": true
  }
 },
 "nbformat": 4,
 "nbformat_minor": 5
}
